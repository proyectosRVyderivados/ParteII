{
  "nbformat": 4,
  "nbformat_minor": 0,
  "metadata": {
    "colab": {
      "name": "ParidadPUT_CALL.ipynb",
      "provenance": [],
      "collapsed_sections": [],
      "authorship_tag": "ABX9TyN09CqpxxOpi5ye389pv18u",
      "include_colab_link": true
    },
    "kernelspec": {
      "name": "python3",
      "display_name": "Python 3"
    },
    "language_info": {
      "name": "python"
    }
  },
  "cells": [
    {
      "cell_type": "markdown",
      "metadata": {
        "id": "view-in-github",
        "colab_type": "text"
      },
      "source": [
        "<a href=\"https://colab.research.google.com/github/proyectosRVyderivados/ParteII/blob/main/ParidadPUT_CALL.ipynb\" target=\"_parent\"><img src=\"https://colab.research.google.com/assets/colab-badge.svg\" alt=\"Open In Colab\"/></a>"
      ]
    },
    {
      "cell_type": "code",
      "source": [
        "#Importo librerías:\n",
        "import random\n",
        "import math\n",
        "import numpy"
      ],
      "metadata": {
        "id": "qriqfmHX-z6-"
      },
      "execution_count": 1,
      "outputs": []
    },
    {
      "cell_type": "markdown",
      "source": [
        "#Paridad PUT-CALL"
      ],
      "metadata": {
        "id": "SbQmwJiV8-wA"
      }
    },
    {
      "cell_type": "code",
      "source": [
        "S = 95 #precio al contado del activo subyacente\n",
        "E = 110 #strike\n",
        "t = 1 #en años\n",
        "B0=100\n",
        "i = 0.1 #tasa de interés anual\n",
        "Bt=B0*(1+i)**t\n",
        "r = numpy.log(1+i) #tasa de interés instantánea\n",
        "P = 12 #Prima de la opción PUT en el mercado\n",
        "#el precio de una opción call debería cumplir la PARIDAD PUT-CALL:\n",
        "#S + P - E(actualizado)\n",
        "Edescontado = E*(math.exp(-r*t))\n",
        "Cteorico = S + P - Edescontado\n",
        "\n",
        "#Si la prima del CALL teórico es diferente a la prima de mercado: oportunidad \n",
        "#de arbitraje\n",
        "Cmercado = 6\n",
        "\n",
        "#Indicamos la estrategia a seguir dependiendo la prima de mercado\n",
        "#en comparación con la prima teórica de la equacion de paridad.\n",
        "print(\"Precio de la opción call en el mercado\", Cmercado)\n",
        "print(\"Precio que la opción call teórica\", Cteorico)\n",
        "\n",
        "if Cmercado == Cteorico:\n",
        "  print(\"Los precios están en equilibrio\")\n",
        "else:\n",
        "  if Cmercado > Cteorico:\n",
        "    print(\"Comprar el put y el activo subyacente y vender el call junto con el bono cupón cero a n años\")\n",
        "  else:\n",
        "    print(\"Comprar el call y bono cupón cero a t años y vender el put junto con el activo subyacente\")\n",
        "\n",
        "#La ganancia será la diferencia entre la prima del Call teórica y la de mercado.\n",
        "ganancia= abs(Cmercado-Cteorico)\n",
        "print(\"La ganancia del arbitraje será de:\", ganancia)"
      ],
      "metadata": {
        "colab": {
          "base_uri": "https://localhost:8080/"
        },
        "id": "U1WOfFUB-sdf",
        "outputId": "55cc7aa6-c73d-4259-e4cd-f004ef947521"
      },
      "execution_count": 14,
      "outputs": [
        {
          "output_type": "stream",
          "name": "stdout",
          "text": [
            "Precio de la opción call en el mercado 6\n",
            "Precio que la opción call teórica 7.0\n",
            "Comprar el call y bono cupón cero a t años y vender el put junto con el activo subyacente\n",
            "La ganancia del arbitraje será de: 1.0\n"
          ]
        }
      ]
    }
  ]
}