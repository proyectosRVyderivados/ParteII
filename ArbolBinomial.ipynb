{
  "nbformat": 4,
  "nbformat_minor": 0,
  "metadata": {
    "colab": {
      "name": "ArbolBinomial.ipynb",
      "provenance": [],
      "authorship_tag": "ABX9TyP2CsHwkB5OJEhtMGat8lOi",
      "include_colab_link": true
    },
    "kernelspec": {
      "name": "python3",
      "display_name": "Python 3"
    },
    "language_info": {
      "name": "python"
    }
  },
  "cells": [
    {
      "cell_type": "markdown",
      "metadata": {
        "id": "view-in-github",
        "colab_type": "text"
      },
      "source": [
        "<a href=\"https://colab.research.google.com/github/proyectosRVyderivados/ParteII/blob/main/ArbolBinomial.ipynb\" target=\"_parent\"><img src=\"https://colab.research.google.com/assets/colab-badge.svg\" alt=\"Open In Colab\"/></a>"
      ]
    },
    {
      "cell_type": "markdown",
      "source": [
        "#Árbol binomial\n",
        "Valoraremos una OPCIÓN europea, obtendremos su precio estimado."
      ],
      "metadata": {
        "id": "E12waRZaK9lw"
      }
    },
    {
      "cell_type": "code",
      "source": [
        "# Estimación del precio de una opción por árboles binomiales\n",
        "#Cargo librerias:\n",
        "import numpy as np\n",
        "from scipy.stats import binom\n",
        "#Datos de entrada (saber si es CALL o PUT)\n",
        "tipo=input('Tipo de opción: 1 Call, 2 Put. Indique 1 o 2. ') or '1'\n",
        "if tipo=='1':\n",
        "  print('Tipo de la opción: CALL')\n",
        "if tipo=='2':\n",
        "  print('Tipo de la opción: PUT')\n",
        "#Precio Spot (S)\n",
        "spot=float(input('Precio Spot del activo subyacente: ') or 100)\n",
        "print('Precio spot=',spot)\n",
        "#Precio strike (E)\n",
        "strik=float(input('Precio de ejercicio: Strik: ') or 110)\n",
        "print('strik=',strik)\n",
        "#Duración (T)\n",
        "anyos=float(input('Duración en años: ') or 2)\n",
        "print('años=',anyos)\n",
        "#Volatilidad (sigma)\n",
        "volatilidad=float(input('Volatilidad anual: ') or 0.2)\n",
        "print('Volatilidad=',volatilidad*100,'%')\n",
        "#Número de pasos (n)\n",
        "n=int(input('Número de pasos del arbol binomial: ') or 4)\n",
        "print('Número de pasos del arbol binomial=',n)\n",
        "#Rentabilidad libre de riesgo (recuerda que utilizaremos el tanto instántaneo)\n",
        "tInt=float(input('Rentabilidad libre de riesgo: ') or 0.07)\n",
        "print('Tipo de interés=',tInt*100,'%')\n",
        "r=np.log(1+tInt)  # r es el tanto instantáneo\n",
        "print('Tanto instantáneo=',r*100,'%')\n",
        "#Calculo de r,u,d,p,deltaT\n",
        "#Variación de t\n",
        "deltaT=anyos/n\n",
        "#Factor de subida\n",
        "u=np.exp(volatilidad*np.sqrt(deltaT))\n",
        "#Factor de bajada\n",
        "d=1/u\n",
        "#Probabilidad de subida\n",
        "p=(np.exp(r*deltaT)-d)/(u-d)\n",
        "#Generación de los precios esperados del activo subyacente a fecha de vencimiento\n",
        "Sn=[0]*(n+1) #Sn es la lista de precios del activo subyacene a fecha de vto.\n",
        "print('u=',u,'p=',p,'deltaT=',deltaT)\n",
        "for i in range(n+1):\n",
        "  Sn[i]=spot*u**(n-i)*d**i\n",
        "  #print('Sn(',i,')=',Sn[i])\n",
        "#calculamos el payoff según sea un Call o un Put\n",
        "payoff=[0]*(n+1) #inicilizamos a cero la lista del payoff\n",
        "for i in range(n+1):\n",
        "  if tipo=='1':\n",
        "    payoff[i]=max(0,Sn[i]-strik)\n",
        "  if tipo=='2':\n",
        "    payoff[i]=max(0,strik-Sn[i])\n",
        "  #print('payoff(',i,')=',payoff[i])\n",
        "  #print('binomial(',i,')=',binom.pmf(n-i, n, p))\n",
        "#cálculo de la prima estimada\n",
        "prima=0\n",
        "for i in range(n+1):\n",
        "  prima+=payoff[i]*binom.pmf(n-i, n, p)\n",
        "prima=prima*np.exp(-r*anyos) #descontamos a valor actual, hasta t=0\n",
        "print('Prima estimada=',prima)"
      ],
      "metadata": {
        "colab": {
          "base_uri": "https://localhost:8080/"
        },
        "id": "rw6E1IeTMIRe",
        "outputId": "a56bf548-3e09-4d80-9e3d-33ed69359115"
      },
      "execution_count": 3,
      "outputs": [
        {
          "output_type": "stream",
          "name": "stdout",
          "text": [
            "Tipo de opción: 1 Call, 2 Put. Indique 1 o 2. 1\n",
            "Tipo de la opción: CALL\n",
            "Precio Spot del activo subyacente: 100\n",
            "Precio spot= 100.0\n",
            "Precio de ejercicio: Strik: 100\n",
            "strik= 100.0\n",
            "Duración en años: 1\n",
            "años= 1.0\n",
            "Volatilidad anual: 0.2\n",
            "Volatilidad= 20.0 %\n",
            "Número de pasos del arbol binomial: 2\n",
            "Número de pasos del arbol binomial= 2\n",
            "Rentabilidad libre de riesgo: 0.07\n",
            "Tipo de interés= 7.000000000000001 %\n",
            "Tanto instantáneo= 6.765864847381486 %\n",
            "u= 1.151909910168909 p= 0.5859497140447129 deltaT= 0.5\n",
            "Prima estimada= 10.489314527361646\n"
          ]
        }
      ]
    }
  ]
}