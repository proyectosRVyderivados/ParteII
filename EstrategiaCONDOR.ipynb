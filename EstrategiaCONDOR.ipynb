{
  "nbformat": 4,
  "nbformat_minor": 0,
  "metadata": {
    "colab": {
      "name": "EstrategiaCONDOR.ipynb",
      "provenance": [],
      "collapsed_sections": [],
      "authorship_tag": "ABX9TyO1z9ZCzRtLwsPBJgjH1t3Z",
      "include_colab_link": true
    },
    "kernelspec": {
      "name": "python3",
      "display_name": "Python 3"
    },
    "language_info": {
      "name": "python"
    }
  },
  "cells": [
    {
      "cell_type": "markdown",
      "metadata": {
        "id": "view-in-github",
        "colab_type": "text"
      },
      "source": [
        "<a href=\"https://colab.research.google.com/github/proyectosRVyderivados/ParteII/blob/main/EstrategiaCONDOR.ipynb\" target=\"_parent\"><img src=\"https://colab.research.google.com/assets/colab-badge.svg\" alt=\"Open In Colab\"/></a>"
      ]
    },
    {
      "cell_type": "code",
      "execution_count": 2,
      "metadata": {
        "id": "eQZKwgFP5FGi"
      },
      "outputs": [],
      "source": [
        "#Instalamos librerías:\n",
        "import numpy as np\n",
        "import matplotlib.pyplot as plt  "
      ]
    },
    {
      "cell_type": "markdown",
      "source": [
        "#Estrategias con opciones\n",
        "##Condor comprado\n",
        "  * Compramos una CALL- PE: A\n",
        "  * Vendemos una CALL- PE: B\n",
        "  * Vendemos una CALL- PE: C\n",
        "  * Compramos una CALL- PE: D\n",
        "* Vendido:\n",
        "  * Vendemos una CALL- PE: A\n",
        "  * Compramos una CALL- PE: B\n",
        "  * Compramos una CALL- PE: C\n",
        "  * Vendemos una CALL- PE: D\n"
      ],
      "metadata": {
        "id": "CupvPvJK5GB_"
      }
    },
    {
      "cell_type": "code",
      "source": [
        "#estrategia CONDOR:\n",
        "\n",
        "tipo_estrategia = \"Comprado\" #En este paso elegimos si la estrategia va a ser condor comprado o vendido\n",
        "\n",
        "#Con la estrategia de cóndor comprado la secuencia de operaciones con opciones es: compra-venta-venta-compra de CALL\n",
        "#en cambio con cóndor vendido la secuencia es: venta-compra-compra-venta de CALL\n",
        "#establecemos el precio de ejercicio de las opciones:\n",
        "peA = 90\n",
        "peB = 100\n",
        "peC = 110\n",
        "peD = 120\n",
        "\n",
        "#Establecemos la prima:\n",
        "primaA = 8\n",
        "primaB = 4\n",
        "primaC = 2\n",
        "primaD = 4\n",
        "\n",
        "#y la número de contratos de opciones:\n",
        "numA = 1\n",
        "numB = 1\n",
        "numC = 1\n",
        "numD = 1\n",
        "\n",
        "# La distancia A-B, B-C y C-D es la misma (tiene que haber simetría), por lo tanto definiremos esta distancia.\n",
        "distancia = 10\n",
        "\n",
        "#Todos los precios posibles, D>C>B>A\n",
        "S = [*range(peA - distancia, peD + distancia)]\n",
        "S\n",
        "\n",
        "#Creo los vectores para guardar el valor de cada opción\n",
        "BeneficioA = [0]*len(S)\n",
        "BeneficioB = [0]*len(S)\n",
        "BeneficioC = [0]*len(S)\n",
        "BeneficioD = [0]*len(S)\n",
        "\n",
        "\n",
        "#Si S < pe, el valor de la opción es negativo\n",
        "#porque el tenedor de la opción perdería la prima\n",
        "#En cambio si S > pe, el valor de la opción es: S - pe - prima\n",
        "\n",
        "#opción A:\n",
        "for i in range(0, len(S)):\n",
        "  if S[i] < peA:\n",
        "    BeneficioA[i] = 0 - primaA\n",
        "  else:\n",
        "    BeneficioA[i] = S[i] - peA - primaA\n",
        "\n",
        "#opción B:\n",
        "for i in range(0, len(S)):\n",
        "  if S[i] < peB:\n",
        "    BeneficioB[i] = 0 - primaB\n",
        "  else:\n",
        "    BeneficioB[i] = S[i] - peB - primaB\n",
        "\n",
        "#opción C:\n",
        "for i in range(0, len(S)):\n",
        "  if S[i] < peC:\n",
        "    BeneficioC[i] = 0 - primaC\n",
        "  else:\n",
        "    BeneficioC[i] = S[i] - peC - primaC\n",
        "\n",
        "#opción D\n",
        "for i in range(0, len(S)):\n",
        "  if S[i] < peD:\n",
        "    BeneficioD[i] = 0 - primaD\n",
        "  else:\n",
        "    BeneficioD[i] = S[i] - peD - primaD\n",
        "\n",
        "#transformamos las listas en vectores. de lo contrario no podremos operar con estos valores\n",
        "BeneficioA = np.array(BeneficioA)\n",
        "BeneficioB = np.array(BeneficioB)\n",
        "BeneficioC = np.array(BeneficioC)\n",
        "BeneficioD = np.array(BeneficioD)\n",
        "\n",
        "#para las opciones de venta se aplica la misma fórmula que en compra pero al revés. Sólo hay que multiplicar por -1\n",
        "if tipo_estrategia == \"Comprado\":\n",
        "  BeneficioA = BeneficioA * numA\n",
        "  BeneficioB = BeneficioB * numB * -1\n",
        "  BeneficioC = BeneficioC * numC * -1\n",
        "  BeneficioD = BeneficioD * numD\n",
        "  \n",
        "else:\n",
        "  BeneficioA = BeneficioA * numA * -1\n",
        "  BeneficioB = BeneficioB * numB\n",
        "  BeneficioC = BeneficioC * numC\n",
        "  BeneficioD = BeneficioD * numD * -1\n",
        "\n",
        "#Agregamos todos los vectores y obtenemos el beneficio:\n",
        "BeneficioTOTAL = BeneficioA + BeneficioB + BeneficioC + BeneficioD\n",
        "\n",
        "#lo representamos en un gráfico para poder observar a cada precio del activo \n",
        "#subyacente cual es el valor:\n",
        "plt.plot(S, BeneficioTOTAL)  \n",
        "plt.show()"
      ],
      "metadata": {
        "id": "toDRjq5E6Ayl",
        "colab": {
          "base_uri": "https://localhost:8080/",
          "height": 265
        },
        "outputId": "9fe9d075-c3b6-4d1e-fb03-612eebbd319c"
      },
      "execution_count": 4,
      "outputs": [
        {
          "output_type": "display_data",
          "data": {
            "text/plain": [
              "<Figure size 432x288 with 1 Axes>"
            ],
            "image/png": "[encoded data removed]"
          },
          "metadata": {
            "needs_background": "light"
          }
        }
      ]
    }
  ]
}